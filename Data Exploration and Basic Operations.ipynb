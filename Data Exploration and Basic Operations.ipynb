{
 "cells": [
  {
   "cell_type": "code",
   "execution_count": 25,
   "id": "fe85ba7d-b4b7-4777-9ffa-1126e4d02a98",
   "metadata": {},
   "outputs": [],
   "source": [
    "#Level 1: Data Exploration and Basic Operations"
   ]
  },
  {
   "cell_type": "code",
   "execution_count": 26,
   "id": "be9486db-2acc-4d2f-aae2-7c315e20f0d1",
   "metadata": {},
   "outputs": [],
   "source": [
    "#Task 1.1: Load and Inspect Data\n",
    "#Load the dataset and display the first 10 rows.\n",
    "#Understand the basic structure of the data, including data types and missing values."
   ]
  },
  {
   "cell_type": "code",
   "execution_count": 27,
   "id": "d3e7b381-e927-4513-be5e-ff60f752350b",
   "metadata": {},
   "outputs": [],
   "source": [
    "import pandas as pd"
   ]
  },
  {
   "cell_type": "code",
   "execution_count": 28,
   "id": "d1f6fadf-6332-4ff4-80e3-f38ea93ce56c",
   "metadata": {},
   "outputs": [],
   "source": [
    "df = pd.read_csv(r'D:\\internship\\New folder 1\\Railway_info.csv')"
   ]
  },
  {
   "cell_type": "code",
   "execution_count": 29,
   "id": "0677dc03-8839-4646-865f-ec181621f183",
   "metadata": {},
   "outputs": [
    {
     "name": "stdout",
     "output_type": "stream",
     "text": [
      "First 10 rows of the dataset:\n"
     ]
    },
    {
     "data": {
      "text/html": [
       "<div>\n",
       "<style scoped>\n",
       "    .dataframe tbody tr th:only-of-type {\n",
       "        vertical-align: middle;\n",
       "    }\n",
       "\n",
       "    .dataframe tbody tr th {\n",
       "        vertical-align: top;\n",
       "    }\n",
       "\n",
       "    .dataframe thead th {\n",
       "        text-align: right;\n",
       "    }\n",
       "</style>\n",
       "<table border=\"1\" class=\"dataframe\">\n",
       "  <thead>\n",
       "    <tr style=\"text-align: right;\">\n",
       "      <th></th>\n",
       "      <th>Train_No</th>\n",
       "      <th>Train_Name</th>\n",
       "      <th>Source_Station_Name</th>\n",
       "      <th>Destination_Station_Name</th>\n",
       "      <th>days</th>\n",
       "    </tr>\n",
       "  </thead>\n",
       "  <tbody>\n",
       "    <tr>\n",
       "      <th>0</th>\n",
       "      <td>107</td>\n",
       "      <td>SWV-MAO-VLNK</td>\n",
       "      <td>SAWANTWADI ROAD</td>\n",
       "      <td>MADGOAN JN.</td>\n",
       "      <td>Saturday</td>\n",
       "    </tr>\n",
       "    <tr>\n",
       "      <th>1</th>\n",
       "      <td>108</td>\n",
       "      <td>VLNK-MAO-SWV</td>\n",
       "      <td>MADGOAN JN.</td>\n",
       "      <td>SAWANTWADI ROAD</td>\n",
       "      <td>Friday</td>\n",
       "    </tr>\n",
       "    <tr>\n",
       "      <th>2</th>\n",
       "      <td>128</td>\n",
       "      <td>MAO-KOP SPEC</td>\n",
       "      <td>MADGOAN JN.</td>\n",
       "      <td>CHHATRAPATI SHAHU MAHARAJ TERMINUS</td>\n",
       "      <td>Friday</td>\n",
       "    </tr>\n",
       "    <tr>\n",
       "      <th>3</th>\n",
       "      <td>290</td>\n",
       "      <td>PALACE ON WH</td>\n",
       "      <td>DELHI-SAFDAR JANG</td>\n",
       "      <td>DELHI-SAFDAR JANG</td>\n",
       "      <td>Wednesday</td>\n",
       "    </tr>\n",
       "    <tr>\n",
       "      <th>4</th>\n",
       "      <td>401</td>\n",
       "      <td>BSB BHARATDA</td>\n",
       "      <td>AURANGABAD</td>\n",
       "      <td>VARANASI JN.</td>\n",
       "      <td>Saturday</td>\n",
       "    </tr>\n",
       "    <tr>\n",
       "      <th>5</th>\n",
       "      <td>421</td>\n",
       "      <td>LKO-SVDK FTR</td>\n",
       "      <td>LUCKNOW JN.</td>\n",
       "      <td>SHRI MATA VAISHNO DEVI KATRA</td>\n",
       "      <td>Tuesday</td>\n",
       "    </tr>\n",
       "    <tr>\n",
       "      <th>6</th>\n",
       "      <td>422</td>\n",
       "      <td>SVDK-LKO FTR</td>\n",
       "      <td>SHRI MATA VAISHNO DEVI KATRA</td>\n",
       "      <td>LUCKNOW JN.</td>\n",
       "      <td>Monday</td>\n",
       "    </tr>\n",
       "    <tr>\n",
       "      <th>7</th>\n",
       "      <td>477</td>\n",
       "      <td>FTR TRAIN NO</td>\n",
       "      <td>SIRSA</td>\n",
       "      <td>SIRSA</td>\n",
       "      <td>Sunday</td>\n",
       "    </tr>\n",
       "    <tr>\n",
       "      <th>8</th>\n",
       "      <td>502</td>\n",
       "      <td>RJPB-UMB FTR</td>\n",
       "      <td>RAJENDRANAGAR TERMINAL</td>\n",
       "      <td>AMBALA CANTT JN</td>\n",
       "      <td>Monday</td>\n",
       "    </tr>\n",
       "    <tr>\n",
       "      <th>9</th>\n",
       "      <td>504</td>\n",
       "      <td>PNBE-BTI FTR</td>\n",
       "      <td>PATNA JN.</td>\n",
       "      <td>BATHINDA JN</td>\n",
       "      <td>Wednesday</td>\n",
       "    </tr>\n",
       "  </tbody>\n",
       "</table>\n",
       "</div>"
      ],
      "text/plain": [
       "   Train_No    Train_Name           Source_Station_Name  \\\n",
       "0       107  SWV-MAO-VLNK               SAWANTWADI ROAD   \n",
       "1       108  VLNK-MAO-SWV                   MADGOAN JN.   \n",
       "2       128  MAO-KOP SPEC                   MADGOAN JN.   \n",
       "3       290  PALACE ON WH             DELHI-SAFDAR JANG   \n",
       "4       401  BSB BHARATDA                    AURANGABAD   \n",
       "5       421  LKO-SVDK FTR                   LUCKNOW JN.   \n",
       "6       422  SVDK-LKO FTR  SHRI MATA VAISHNO DEVI KATRA   \n",
       "7       477  FTR TRAIN NO                         SIRSA   \n",
       "8       502  RJPB-UMB FTR        RAJENDRANAGAR TERMINAL   \n",
       "9       504  PNBE-BTI FTR                     PATNA JN.   \n",
       "\n",
       "             Destination_Station_Name       days  \n",
       "0                         MADGOAN JN.   Saturday  \n",
       "1                     SAWANTWADI ROAD     Friday  \n",
       "2  CHHATRAPATI SHAHU MAHARAJ TERMINUS     Friday  \n",
       "3                   DELHI-SAFDAR JANG  Wednesday  \n",
       "4                        VARANASI JN.   Saturday  \n",
       "5        SHRI MATA VAISHNO DEVI KATRA    Tuesday  \n",
       "6                         LUCKNOW JN.     Monday  \n",
       "7                               SIRSA     Sunday  \n",
       "8                     AMBALA CANTT JN     Monday  \n",
       "9                         BATHINDA JN  Wednesday  "
      ]
     },
     "execution_count": 29,
     "metadata": {},
     "output_type": "execute_result"
    }
   ],
   "source": [
    "print(\"First 10 rows of the dataset:\")\n",
    "df.head(10)"
   ]
  },
  {
   "cell_type": "code",
   "execution_count": 30,
   "id": "981cdf44-f49f-4c3b-97d1-520e4e40bfa9",
   "metadata": {},
   "outputs": [
    {
     "name": "stdout",
     "output_type": "stream",
     "text": [
      "Dataset Info:\n",
      "<class 'pandas.core.frame.DataFrame'>\n",
      "RangeIndex: 11113 entries, 0 to 11112\n",
      "Data columns (total 5 columns):\n",
      " #   Column                    Non-Null Count  Dtype \n",
      "---  ------                    --------------  ----- \n",
      " 0   Train_No                  11113 non-null  int64 \n",
      " 1   Train_Name                11113 non-null  object\n",
      " 2   Source_Station_Name       11113 non-null  object\n",
      " 3   Destination_Station_Name  11113 non-null  object\n",
      " 4   days                      11113 non-null  object\n",
      "dtypes: int64(1), object(4)\n",
      "memory usage: 434.2+ KB\n"
     ]
    }
   ],
   "source": [
    "print(\"Dataset Info:\")\n",
    "df.info()"
   ]
  },
  {
   "cell_type": "code",
   "execution_count": 31,
   "id": "1598dffa-1f40-4ba0-8ab5-003a1a46b5f9",
   "metadata": {},
   "outputs": [
    {
     "name": "stdout",
     "output_type": "stream",
     "text": [
      "Missing values in each column:\n"
     ]
    },
    {
     "data": {
      "text/plain": [
       "Train_No                    0\n",
       "Train_Name                  0\n",
       "Source_Station_Name         0\n",
       "Destination_Station_Name    0\n",
       "days                        0\n",
       "dtype: int64"
      ]
     },
     "execution_count": 31,
     "metadata": {},
     "output_type": "execute_result"
    }
   ],
   "source": [
    "print(\"Missing values in each column:\")\n",
    "df.isnull().sum()"
   ]
  },
  {
   "cell_type": "code",
   "execution_count": 32,
   "id": "8cbf6372-f77e-4660-8677-7e3943c5cfd3",
   "metadata": {},
   "outputs": [],
   "source": [
    "#Task 1.2: Basic Statistics\n",
    "#Calculate basic statistics such as the number of trains, unique source stations, and unique destination stations.\n",
    "#Find the most common source and destination stations."
   ]
  },
  {
   "cell_type": "code",
   "execution_count": 33,
   "id": "e859b74f-ec90-457d-a2e2-63e1f9dc20fa",
   "metadata": {},
   "outputs": [
    {
     "name": "stdout",
     "output_type": "stream",
     "text": [
      "Total number of trains: 11113\n"
     ]
    }
   ],
   "source": [
    "# Total number of trains (assuming each row is a unique train entry)\n",
    "num_trains = len(df)\n",
    "print(\"Total number of trains:\", num_trains)"
   ]
  },
  {
   "cell_type": "code",
   "execution_count": 34,
   "id": "193dfa22-67a7-4deb-9536-58acc6f93c7c",
   "metadata": {},
   "outputs": [
    {
     "name": "stdout",
     "output_type": "stream",
     "text": [
      "Number of unique source stations: 921\n",
      "Number of unique destination stations: 924\n"
     ]
    }
   ],
   "source": [
    "unique_sources = df['Source_Station_Name'].nunique()\n",
    "unique_destinations = df['Destination_Station_Name'].nunique()\n",
    "\n",
    "print(\"Number of unique source stations:\", unique_sources)\n",
    "print(\"Number of unique destination stations:\", unique_destinations)"
   ]
  },
  {
   "cell_type": "code",
   "execution_count": 35,
   "id": "b01b16e8-0ce6-4444-bdbf-f5460a629952",
   "metadata": {},
   "outputs": [
    {
     "name": "stdout",
     "output_type": "stream",
     "text": [
      "Most common source station: CST-MUMBAI\n",
      "Most common destination station: CST-MUMBAI\n"
     ]
    }
   ],
   "source": [
    "# Most frequent source station\n",
    "common_source = df['Source_Station_Name'].mode()[0]\n",
    "print(\"Most common source station:\", common_source)\n",
    "\n",
    "# Most frequent destination station\n",
    "common_destination = df['Destination_Station_Name'].mode()[0]\n",
    "print(\"Most common destination station:\", common_destination)"
   ]
  },
  {
   "cell_type": "code",
   "execution_count": 36,
   "id": "865af95f-618f-4573-a1b0-99a0af8b9266",
   "metadata": {},
   "outputs": [],
   "source": [
    "#Task 1.3: Data Cleaning\n",
    "#Identify and handle missing values in the dataset.\n",
    "#Standardize the format of station names (e.g., make all names uppercase)."
   ]
  },
  {
   "cell_type": "code",
   "execution_count": 37,
   "id": "d82ca3e1-e2cb-43eb-9d63-b323381be2e5",
   "metadata": {},
   "outputs": [
    {
     "name": "stdout",
     "output_type": "stream",
     "text": [
      "Missing values per column:\n"
     ]
    },
    {
     "data": {
      "text/plain": [
       "Train_No                    0\n",
       "Train_Name                  0\n",
       "Source_Station_Name         0\n",
       "Destination_Station_Name    0\n",
       "days                        0\n",
       "dtype: int64"
      ]
     },
     "execution_count": 37,
     "metadata": {},
     "output_type": "execute_result"
    }
   ],
   "source": [
    "# Display total missing values per column\n",
    "print(\"Missing values per column:\")\n",
    "df.isnull().sum()"
   ]
  },
  {
   "cell_type": "code",
   "execution_count": 38,
   "id": "a825c3d7-fe08-4e88-aa0e-8d7435b35477",
   "metadata": {},
   "outputs": [],
   "source": [
    "#Here there is no any missing values"
   ]
  },
  {
   "cell_type": "code",
   "execution_count": 39,
   "id": "5b0c8f77-f3b0-44fd-b910-b953e4157960",
   "metadata": {},
   "outputs": [
    {
     "name": "stdout",
     "output_type": "stream",
     "text": [
      "Missing values after dropping rows:\n"
     ]
    },
    {
     "data": {
      "text/plain": [
       "Train_No                    0\n",
       "Train_Name                  0\n",
       "Source_Station_Name         0\n",
       "Destination_Station_Name    0\n",
       "days                        0\n",
       "dtype: int64"
      ]
     },
     "execution_count": 39,
     "metadata": {},
     "output_type": "execute_result"
    }
   ],
   "source": [
    "# Drop rows with any missing values\n",
    "df_cleaned = df.dropna()\n",
    "\n",
    "# Confirm no missing values remain\n",
    "print(\"Missing values after dropping rows:\")\n",
    "df_cleaned.isnull().sum()"
   ]
  },
  {
   "cell_type": "code",
   "execution_count": 40,
   "id": "2baac4f4-66a4-4cf2-969f-eb17f55bade9",
   "metadata": {},
   "outputs": [],
   "source": [
    "# Fill missing values with a placeholder like 'UNKNOWN' for categorical data\n",
    "#df['column_name'] = df['column_name'].fillna('UNKNOWN')"
   ]
  },
  {
   "cell_type": "code",
   "execution_count": 41,
   "id": "09d3b640-4513-422b-ba79-ead9806a4813",
   "metadata": {},
   "outputs": [
    {
     "data": {
      "text/html": [
       "<div>\n",
       "<style scoped>\n",
       "    .dataframe tbody tr th:only-of-type {\n",
       "        vertical-align: middle;\n",
       "    }\n",
       "\n",
       "    .dataframe tbody tr th {\n",
       "        vertical-align: top;\n",
       "    }\n",
       "\n",
       "    .dataframe thead th {\n",
       "        text-align: right;\n",
       "    }\n",
       "</style>\n",
       "<table border=\"1\" class=\"dataframe\">\n",
       "  <thead>\n",
       "    <tr style=\"text-align: right;\">\n",
       "      <th></th>\n",
       "      <th>Source_Station_Name</th>\n",
       "      <th>Destination_Station_Name</th>\n",
       "    </tr>\n",
       "  </thead>\n",
       "  <tbody>\n",
       "    <tr>\n",
       "      <th>0</th>\n",
       "      <td>SAWANTWADI ROAD</td>\n",
       "      <td>MADGOAN JN.</td>\n",
       "    </tr>\n",
       "    <tr>\n",
       "      <th>1</th>\n",
       "      <td>MADGOAN JN.</td>\n",
       "      <td>SAWANTWADI ROAD</td>\n",
       "    </tr>\n",
       "    <tr>\n",
       "      <th>2</th>\n",
       "      <td>MADGOAN JN.</td>\n",
       "      <td>CHHATRAPATI SHAHU MAHARAJ TERMINUS</td>\n",
       "    </tr>\n",
       "    <tr>\n",
       "      <th>3</th>\n",
       "      <td>DELHI-SAFDAR JANG</td>\n",
       "      <td>DELHI-SAFDAR JANG</td>\n",
       "    </tr>\n",
       "    <tr>\n",
       "      <th>4</th>\n",
       "      <td>AURANGABAD</td>\n",
       "      <td>VARANASI JN.</td>\n",
       "    </tr>\n",
       "  </tbody>\n",
       "</table>\n",
       "</div>"
      ],
      "text/plain": [
       "  Source_Station_Name            Destination_Station_Name\n",
       "0     SAWANTWADI ROAD                         MADGOAN JN.\n",
       "1         MADGOAN JN.                     SAWANTWADI ROAD\n",
       "2         MADGOAN JN.  CHHATRAPATI SHAHU MAHARAJ TERMINUS\n",
       "3   DELHI-SAFDAR JANG                   DELHI-SAFDAR JANG\n",
       "4          AURANGABAD                        VARANASI JN."
      ]
     },
     "execution_count": 41,
     "metadata": {},
     "output_type": "execute_result"
    }
   ],
   "source": [
    "# Replace with actual column names in your dataset if different\n",
    "df_cleaned['Source_Station_Name'] = df_cleaned['Source_Station_Name'].str.strip().str.upper()\n",
    "df_cleaned['Destination_Station_Name'] = df_cleaned['Destination_Station_Name'].str.strip().str.upper()\n",
    "\n",
    "# Preview cleaned station names\n",
    "df_cleaned[['Source_Station_Name', 'Destination_Station_Name']].head()"
   ]
  },
  {
   "cell_type": "code",
   "execution_count": null,
   "id": "46b2b12e-6b51-42b3-aa88-bde0c7e93e3c",
   "metadata": {},
   "outputs": [],
   "source": []
  }
 ],
 "metadata": {
  "kernelspec": {
   "display_name": "Python [conda env:base] *",
   "language": "python",
   "name": "conda-base-py"
  },
  "language_info": {
   "codemirror_mode": {
    "name": "ipython",
    "version": 3
   },
   "file_extension": ".py",
   "mimetype": "text/x-python",
   "name": "python",
   "nbconvert_exporter": "python",
   "pygments_lexer": "ipython3",
   "version": "3.12.7"
  }
 },
 "nbformat": 4,
 "nbformat_minor": 5
}
